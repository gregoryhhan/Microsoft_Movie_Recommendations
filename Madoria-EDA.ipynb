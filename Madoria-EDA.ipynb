{
 "cells": [
  {
   "cell_type": "markdown",
   "metadata": {},
   "source": [
    "Madoria-EDA"
   ]
  },
  {
   "cell_type": "markdown",
   "metadata": {},
   "source": [
    "My analysis is on the gross profit in the domestic vs foreign box office market and the production budget. My analysis utilizes the movie_gross, movie_budgets, and tmbd_movies charts:"
   ]
  },
  {
   "cell_type": "code",
   "execution_count": null,
   "metadata": {},
   "outputs": [],
   "source": [
    "import pandas as pd\n",
    "import numpy as np\n",
    "import seaborn as sns\n",
    "import matplotlib.pyplot as plt\n",
    "%matplotlib inline"
   ]
  },
  {
   "cell_type": "markdown",
   "metadata": {},
   "source": [
    "After importing, pandas and matplotlib, I decided to get a peek of the data including a description of each of the table values and begin cleaning. Starting with the bom.movie_gross data:"
   ]
  },
  {
   "cell_type": "code",
   "execution_count": null,
   "metadata": {},
   "outputs": [],
   "source": [
    "df1= pd.read_csv('data/bom.movie_gross.csv')\n",
    "df1.head()"
   ]
  },
  {
   "cell_type": "code",
   "execution_count": null,
   "metadata": {},
   "outputs": [],
   "source": [
    "df1.info()"
   ]
  },
  {
   "cell_type": "code",
   "execution_count": null,
   "metadata": {},
   "outputs": [],
   "source": [
    "gross= df1[df1['studio'].notna() & df1['domestic_gross'].notna()]\n",
    "gross"
   ]
  },
  {
   "cell_type": "code",
   "execution_count": null,
   "metadata": {},
   "outputs": [],
   "source": [
    "gross['foreign_gross']= gross['foreign_gross'].fillna(0)"
   ]
  },
  {
   "cell_type": "code",
   "execution_count": null,
   "metadata": {},
   "outputs": [],
   "source": [
    "gross['foreign_gross'] = gross['foreign_gross'].str.replace(',', '').astype(float)"
   ]
  },
  {
   "cell_type": "code",
   "execution_count": null,
   "metadata": {},
   "outputs": [],
   "source": [
    "gross.info()"
   ]
  },
  {
   "cell_type": "code",
   "execution_count": null,
   "metadata": {},
   "outputs": [],
   "source": [
    "top_10_studios_domestic= gross.groupby('studio')['domestic_gross'].sum().sort_values(ascending=False).head(10)\n",
    "top_10_studios_domestic"
   ]
  },
  {
   "cell_type": "code",
   "execution_count": null,
   "metadata": {},
   "outputs": [],
   "source": [
    "top_10_studios_foreign= gross.groupby('studio')['foreign_gross'].sum().sort_values(ascending=False).head(10)\n",
    "top_10_studios_foreign"
   ]
  },
  {
   "cell_type": "markdown",
   "metadata": {},
   "source": [
    "Now I move on to tn.movie budgets and do some more cleaning:"
   ]
  },
  {
   "cell_type": "code",
   "execution_count": null,
   "metadata": {},
   "outputs": [],
   "source": [
    "df2= pd.read_csv('data/tn.movie_budgets.csv')\n",
    "df2.head()"
   ]
  },
  {
   "cell_type": "code",
   "execution_count": null,
   "metadata": {},
   "outputs": [],
   "source": [
    "df2.info()"
   ]
  },
  {
   "cell_type": "code",
   "execution_count": null,
   "metadata": {},
   "outputs": [],
   "source": [
    "cols = ['production_budget', 'domestic_gross', 'worldwide_gross']\n",
    "df2[cols] = df2[cols].replace('[\\$,]','', regex=True).astype(float)\n",
    "df2"
   ]
  },
  {
   "cell_type": "code",
   "execution_count": null,
   "metadata": {},
   "outputs": [],
   "source": [
    "\"\"\"I was going to do percent, but I believe this is still understandable\"\"\"\n",
    "\n",
    "df2['dom_profit_margin']= (df2['domestic_gross'] - df2['production_budget']) / df2['domestic_gross']\n",
    "df2['ww_profit_margin']= (df2['worldwide_gross'] - df2['production_budget'])/ df2['worldwide_gross']\n",
    "df2"
   ]
  },
  {
   "cell_type": "code",
   "execution_count": null,
   "metadata": {},
   "outputs": [],
   "source": [
    "top_20_movies_worldwide= df2.nlargest(20, 'worldwide_gross')['movie'].reset_index()\n",
    "top_20_movies_worldwide "
   ]
  },
  {
   "cell_type": "code",
   "execution_count": null,
   "metadata": {},
   "outputs": [],
   "source": [
    "top_world_profit = df2.sort_values('worldwide_gross', ascending=False).iloc[:20]\n",
    "\n",
    "fig, ax= plt.subplots(figsize=(14,8))\n",
    "\n",
    "ax.scatter(top_world_profit['production_budget'], top_world_profit['worldwide_gross'], s=100)\n",
    "ax.set_title(\"Worldwide Gross by Budget\")\n",
    "ax.set_xlabel(\"Production Budget (in millions)\")\n",
    "ax.set_ylabel(\"Worldwide Gross (in billions)\")"
   ]
  },
  {
   "cell_type": "code",
   "execution_count": null,
   "metadata": {},
   "outputs": [],
   "source": [
    "top_10_movies_domestic= df2.nlargest(20, 'domestic_gross')['movie'].reset_index()\n",
    "top_10_movies_domestic"
   ]
  },
  {
   "cell_type": "code",
   "execution_count": null,
   "metadata": {},
   "outputs": [],
   "source": [
    "top_dom_profit = df2.sort_values('domestic_gross', ascending=False).iloc[:20]\n",
    "\n",
    "fig, ax= plt.subplots(figsize=(14,8))\n",
    "\n",
    "ax.scatter(top_dom_profit['production_budget'], top_dom_profit['domestic_gross'], c='r', s=100)\n",
    "ax.set_title(\"Domestic Gross by Budget\")\n",
    "ax.set_xlabel(\"Production Budget (in 100 millions)\")\n",
    "ax.set_ylabel(\"Domestic Gross (in 100 millions)\")"
   ]
  },
  {
   "cell_type": "markdown",
   "metadata": {},
   "source": [
    "Based on the sample data I have, we've gotten some insight from the other two dataframes that:\n",
    "\n",
    " -certain studios seem to gross more than others whether foreign or domestic\n",
    " \n",
    " -there's a small correlation between the production budget and the overall gross\n",
    "\n",
    "Now I'm moving on to the very last dataframe which is tmdb.movies just to see if anything ties into that:"
   ]
  },
  {
   "cell_type": "code",
   "execution_count": null,
   "metadata": {},
   "outputs": [],
   "source": [
    "df3= pd.read_csv('data/tmdb.movies.csv')\n",
    "df3.head()"
   ]
  },
  {
   "cell_type": "code",
   "execution_count": null,
   "metadata": {},
   "outputs": [],
   "source": [
    "df3.info()"
   ]
  },
  {
   "cell_type": "code",
   "execution_count": null,
   "metadata": {},
   "outputs": [],
   "source": [
    "df3.describe()"
   ]
  },
  {
   "cell_type": "code",
   "execution_count": null,
   "metadata": {},
   "outputs": [],
   "source": [
    "df3['vote_high_low']= [\"High Votes\" if x > 194 else \"Low Votes\" for x in df3['vote_count']]\n",
    "df3.head()"
   ]
  },
  {
   "cell_type": "code",
   "execution_count": null,
   "metadata": {},
   "outputs": [],
   "source": [
    "most_popular= df3.nlargest(20, 'popularity')['genre_ids'].sort_values()\n",
    "most_popular"
   ]
  },
  {
   "cell_type": "markdown",
   "metadata": {},
   "source": [
    "I can see here that certain genres do seem to appear more in the top 20 list, but I need more evidence to confirm. "
   ]
  },
  {
   "cell_type": "markdown",
   "metadata": {},
   "source": [
    "Combining Tables:"
   ]
  },
  {
   "cell_type": "markdown",
   "metadata": {},
   "source": [
    "Here I want to combine the tables to get more insight on studio profits and hopefully have more insight on the genres. \n",
    "\n",
    "First to combine, the movie gross and movie budget dataframes:"
   ]
  },
  {
   "cell_type": "code",
   "execution_count": null,
   "metadata": {},
   "outputs": [],
   "source": [
    "new_movie= df1.merge(df2, left_on=df1['title'], right_on=df2['movie']).reset_index(drop=True)\n",
    "new_movie"
   ]
  },
  {
   "cell_type": "code",
   "execution_count": null,
   "metadata": {},
   "outputs": [],
   "source": [
    "avg_studio= new_movie.groupby('studio').mean().reset_index()\n",
    "avg_studio= avg_studio[avg_studio['dom_profit_margin'] > 0]\n",
    "avg_studio"
   ]
  },
  {
   "cell_type": "code",
   "execution_count": null,
   "metadata": {},
   "outputs": [],
   "source": [
    "avg_studio = avg_studio.sort_values('dom_profit_margin', ascending=False).iloc[:10]\n",
    "\n",
    "fig, ax= plt.subplots(figsize=(14,8))\n",
    "\n",
    "ax.bar(avg_studio['studio'], avg_studio['dom_profit_margin'])\n",
    "ax.set_title= 'Top Studios'\n",
    "ax.set_xlabel= 'Studios'\n",
    "ax.set_ylabel= 'Domestic Profit Margin'"
   ]
  },
  {
   "cell_type": "code",
   "execution_count": null,
   "metadata": {},
   "outputs": [],
   "source": [
    "avg_studio = avg_studio.sort_values('ww_profit_margin', ascending=False).iloc[:10]\n",
    "\n",
    "fig, ax= plt.subplots(figsize=(15,8))\n",
    "sns.barplot(data=avg_studio, x='studio', y='ww_profit_margin')"
   ]
  },
  {
   "cell_type": "markdown",
   "metadata": {},
   "source": [
    "This new studio information definitely differs from the lists up top. I'm going to continue to make sure it's not a fluke. \n",
    "\n",
    "Now I'll combine the combined dataframe I made just now with the very last movies dataframe. "
   ]
  },
  {
   "cell_type": "code",
   "execution_count": null,
   "metadata": {},
   "outputs": [],
   "source": [
    "\"\"\"Had to do this first to merge again\"\"\"\n",
    "del new_movie['key_0']"
   ]
  },
  {
   "cell_type": "code",
   "execution_count": null,
   "metadata": {},
   "outputs": [],
   "source": [
    "mega_movie= new_movie.merge(df3, left_on=new_movie['title'], right_on=df3['title']).reset_index(drop=True)\n",
    "mega_movie"
   ]
  },
  {
   "cell_type": "code",
   "execution_count": null,
   "metadata": {},
   "outputs": [],
   "source": [
    "mega_movie.info()"
   ]
  },
  {
   "cell_type": "markdown",
   "metadata": {},
   "source": [
    "There's dupes and nulls. Oh my"
   ]
  },
  {
   "cell_type": "code",
   "execution_count": null,
   "metadata": {},
   "outputs": [],
   "source": [
    "mega_dupes= mega_movie[mega_movie.duplicated(['movie'])]\n",
    "mega_dupes"
   ]
  },
  {
   "cell_type": "code",
   "execution_count": null,
   "metadata": {},
   "outputs": [],
   "source": [
    "mega_movie= mega_movie.drop_duplicates(subset=['movie'], keep='first')"
   ]
  },
  {
   "cell_type": "code",
   "execution_count": null,
   "metadata": {},
   "outputs": [],
   "source": [
    "mega_movie.drop(['key_0', 'title_x', 'id_x', 'release_date_x', 'id_y', 'release_date_y'], axis=1)"
   ]
  },
  {
   "cell_type": "code",
   "execution_count": null,
   "metadata": {},
   "outputs": [],
   "source": [
    "mega_studio= mega_movie.groupby('studio').mean().reset_index()\n",
    "mega_studio= mega_studio[mega_studio['dom_profit_margin'] > 0]\n",
    "mega_studio"
   ]
  },
  {
   "cell_type": "code",
   "execution_count": null,
   "metadata": {},
   "outputs": [],
   "source": [
    "mega_studio = mega_studio.sort_values('dom_profit_margin', ascending=False).iloc[:10]\n",
    "\n",
    "fig, ax= plt.subplots(figsize=(14,8))\n",
    "\n",
    "ax.bar(mega_studio['studio'], mega_studio['dom_profit_margin'])\n",
    "ax.set_title= 'Top Studios'\n",
    "ax.set_xlabel= 'Studios'\n",
    "ax.set_ylabel= 'Domestic Profit Margin'"
   ]
  },
  {
   "cell_type": "code",
   "execution_count": null,
   "metadata": {},
   "outputs": [],
   "source": [
    "mega_studio = mega_studio.sort_values('ww_profit_margin', ascending=False).iloc[:10]\n",
    "\n",
    "fig, ax= plt.subplots(figsize=(14,8))\n",
    "\n",
    "ax.bar(mega_studio['studio'], mega_studio['ww_profit_margin'])\n",
    "ax.set_title= 'Top Studios'\n",
    "ax.set_xlabel= 'Studios'\n",
    "ax.set_ylabel= 'Worldwide Profit Margin'"
   ]
  },
  {
   "cell_type": "code",
   "execution_count": null,
   "metadata": {},
   "outputs": [],
   "source": [
    "type(mega_movie['genre_ids'][0])"
   ]
  },
  {
   "cell_type": "code",
   "execution_count": null,
   "metadata": {},
   "outputs": [],
   "source": [
    "mega_movie[\"genre_ids\"]= mega_movie[\"genre_ids\"].apply(eval)"
   ]
  },
  {
   "cell_type": "code",
   "execution_count": null,
   "metadata": {},
   "outputs": [],
   "source": [
    "type(mega_movie['genre_ids'][0])"
   ]
  },
  {
   "cell_type": "code",
   "execution_count": null,
   "metadata": {},
   "outputs": [],
   "source": [
    "def to_1D(series):\n",
    "    return pd.Series([x for genres in series for x in genres])"
   ]
  },
  {
   "cell_type": "code",
   "execution_count": null,
   "metadata": {},
   "outputs": [],
   "source": [
    "genre_list= to_1D(mega_movie['genre_ids']).value_counts()\n",
    "genre_list"
   ]
  },
  {
   "cell_type": "code",
   "execution_count": null,
   "metadata": {},
   "outputs": [],
   "source": [
    "fig, ax= plt.subplots()\n",
    "\n",
    "to_1D(mega_movie['genre_ids']).value_counts()[:10].plot(kind='barh')\n",
    "ax.set_xlabel(\"Frequency\")\n",
    "ax.set_ylabel(\"Genre\")\n",
    "ax.set_title(\"Movie Genres by Frequency\")"
   ]
  },
  {
   "cell_type": "markdown",
   "metadata": {},
   "source": [
    "So now we are at the end of my journal. There are certain studios that have a higher gross, but that doesn't really translate to the overall profit margin. And certain genres definitely dominate the box office. \n",
    "\n",
    "More analysis would be needed on the names of the genre ids, the types of movies associated with the Top Studios by Profit Margin, more timeline data to find possible trends in in genres or profit margin, and more. \n"
   ]
  }
 ],
 "metadata": {
  "interpreter": {
   "hash": "4ba33acf19d6f8950a82f714c4929bec5c0642f06f1336034ea15f517b72499a"
  },
  "kernelspec": {
   "display_name": "Python 3.8.5 64-bit ('learn-env': conda)",
   "language": "python",
   "name": "python3"
  },
  "language_info": {
   "codemirror_mode": {
    "name": "ipython",
    "version": 3
   },
   "file_extension": ".py",
   "mimetype": "text/x-python",
   "name": "python",
   "nbconvert_exporter": "python",
   "pygments_lexer": "ipython3",
   "version": "3.8.5"
  },
  "orig_nbformat": 4
 },
 "nbformat": 4,
 "nbformat_minor": 2
}
